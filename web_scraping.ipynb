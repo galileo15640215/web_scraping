{
  "nbformat": 4,
  "nbformat_minor": 0,
  "metadata": {
    "colab": {
      "name": "web_scraping.ipynb",
      "version": "0.3.2",
      "provenance": [],
      "include_colab_link": true
    },
    "kernelspec": {
      "name": "python3",
      "display_name": "Python 3"
    }
  },
  "cells": [
    {
      "cell_type": "markdown",
      "metadata": {
        "id": "view-in-github",
        "colab_type": "text"
      },
      "source": [
        "<a href=\"https://colab.research.google.com/github/galileo15640215/web_scraping/blob/master/web_scraping.ipynb\" target=\"_parent\"><img src=\"https://colab.research.google.com/assets/colab-badge.svg\" alt=\"Open In Colab\"/></a>"
      ]
    },
    {
      "metadata": {
        "id": "Ba7OrCFO2OQE",
        "colab_type": "code",
        "colab": {}
      },
      "cell_type": "code",
      "source": [
        "from bs4 import BeautifulSoup"
      ],
      "execution_count": 0,
      "outputs": []
    },
    {
      "metadata": {
        "id": "Msjoy82e2WF_",
        "colab_type": "code",
        "colab": {}
      },
      "cell_type": "code",
      "source": [
        "import requests"
      ],
      "execution_count": 0,
      "outputs": []
    },
    {
      "metadata": {
        "id": "KsPcuQ8w2Xo3",
        "colab_type": "code",
        "colab": {}
      },
      "cell_type": "code",
      "source": [
        "import pandas as pd"
      ],
      "execution_count": 0,
      "outputs": []
    },
    {
      "metadata": {
        "id": "HGHxa2lx2j4F",
        "colab_type": "code",
        "colab": {}
      },
      "cell_type": "code",
      "source": [
        "from pandas import Series, DataFrame"
      ],
      "execution_count": 0,
      "outputs": []
    },
    {
      "metadata": {
        "id": "VMNr4zDI2nkd",
        "colab_type": "code",
        "colab": {}
      },
      "cell_type": "code",
      "source": [
        "url = 'https://www.ucop.edu/operating-budget/budgets-and-reports/legislative-reports/2018-19-legislative-session.html'"
      ],
      "execution_count": 0,
      "outputs": []
    },
    {
      "metadata": {
        "id": "m3JNqFUF3DMM",
        "colab_type": "code",
        "colab": {}
      },
      "cell_type": "code",
      "source": [
        "result = requests.get(url)"
      ],
      "execution_count": 0,
      "outputs": []
    },
    {
      "metadata": {
        "id": "4xjfiF9Y3OJA",
        "colab_type": "code",
        "colab": {}
      },
      "cell_type": "code",
      "source": [
        "c = result.content"
      ],
      "execution_count": 0,
      "outputs": []
    },
    {
      "metadata": {
        "id": "vESalxPx3R7M",
        "colab_type": "code",
        "colab": {
          "base_uri": "https://localhost:8080/",
          "height": 54
        },
        "outputId": "2c3040dc-c30c-485e-a524-a2e75f3157e5"
      },
      "cell_type": "code",
      "source": [
        "c"
      ],
      "execution_count": 11,
      "outputs": [
        {
          "output_type": "execute_result",
          "data": {
            "text/plain": [
              "b'\\n<!DOCTYPE html>\\n<!--[if lt IE 9]><html class=\"lte-ie8 no-js\"  lang=\"en\"><![endif]-->\\n<!--[if gt IE 8]><!--><html lang=\"en\" class=\"no-js\"><!--<![endif]-->\\n<html xmlns=\"http://www.w3.org/1999/xhtml\" lang=\"en\" xml:lang=\"en\">\\n<head>\\n<meta content=\"IE=edge\" http-equiv=\"X-UA-Compatible\" />\\r\\n<meta charset=\"utf-8\" />\\r\\n<meta content=\"width=device-width, initial-scale=1.0\" name=\"viewport\" />    \\n<meta content=\"\" name=\"description\"/>\\n<meta content=\"\" name=\"author\"/>\\n<title>Legislative reports | UCOP</title>\\n<meta content=\"3a47c4b6ac1e00881fa5b470dcd83b0d\" name=\"id\"/>  \\n<!-- Le HTML5 shim, for IE6-8 support of HTML elements -->\\n<!--[if lt IE 9]>\\n      <script src=\"//html5shim.googlecode.com/svn/trunk/html5.js\"></script>\\n    <![endif]-->\\n<!-- Le styles -->\\n<!-- main.css - see /_common/files/css/main.less non-minified sources -->\\n<link href=\"/_common/files/css/main.css?v=1.2\" media=\"screen\" rel=\"stylesheet\"/>\\n<link href=\"/_common/files/css/print.css\" media=\"print\" rel=\"stylesheet\"/>\\n<!-- Le fav and touch icons -->\\n<link href=\"/_common/files/img/ico/favicon.ico\" rel=\"shortcut icon\"/>\\n<!-- <link href=\"/files/img/ico/apple-touch-icon.png\" rel=\"apple-touch-icon\"/>\\n<link href=\"/files/img/ico/apple-touch-icon-72x72.png\" rel=\"apple-touch-icon\" sizes=\"72x72\"/>\\n<link href=\"/files/img/ico/apple-touch-icon-114x114.png\" rel=\"apple-touch-icon\" sizes=\"114x114\"/> -->\\n<!-- Custom styles -->\\n<!--[if gt IE 8]><!--><link href=\"/_common/files/css/ff-old.css\" rel=\"stylesheet\"/><!--<![endif]-->\\n  \\n \\n<script src=\"/_common/files/js/protection.js\"></script>  \\n<![CDATA[]]>\\n\\n</head>\\n<body>\\n<div aria-label=\"skiplink\" role=\"navigation\">\\n    <a class=\"skip-link\" href=\"#content\">Skip to Main Content</a>\\n</div>\\n<div id=\"bg-left\"></div>\\n<div id=\"bg-right\"></div>\\n<div id=\"wrapper\">\\n  <div class=\"container\"> \\n    <!-- Pills\\n    ================================================== -->\\n    <div class=\"row mast\" role=\"banner\">\\n      <div class=\"span4 logo\">\\n        <div id=\"logo\"><a href=\"https://www.ucop.edu/index.html\"><img alt=\"University of California Office of the President\" height=\"64\" src=\"/_common/files/img/wordmark.png\" width=\"240\"/></a></div>\\n      </div>    \\n      <div class=\"span8 main-nav offset4\">\\n        <div class=\"navbar adjusted\">\\n          <div aria-labelledby=\"main-menu-mobile\" class=\"navbar-inner\" role=\"navigation\">\\n             <a class=\"btn btn-navbar\" data-target=\".nav-collapse\" data-toggle=\"collapse\" id=\"main-menu-mobile\"> Main Menu <b class=\"caret\">\\xc2\\xa0</b> </a> \\n            <div class=\"nav-collapse\">\\n              <ul class=\"nav pull-right\" id=\"topmenu\">\\n<li><a href=\"http://jobs.universityofcalifornia.edu\">Jobs</a></li>\\n<li><a href=\"/directory-search/index.php\" title=\"Search the UCOP directory\">People</a></li>\\n<li>\\n                  <form action=\"/search\" class=\"navbar-search\" id=\"search-form\" method=\"get\">\\n<!--\\nThe search form\\'s submit event is being handled\\nby an inline script further down the page\\n-->\\n                    <label class=\"skip-link\" for=\"query-field\">search</label>\\n                    <input class=\"search-query\" id=\"query-field\" name=\"q\" placeholder=\"Search\" type=\"text\"/>\\n                  </form>\\n</li>\\n</ul>\\n              <ul class=\"nav pull-right\" id=\"ariatopnav\">\\n<li class=\"\"><a href=\"/\">Home</a></li>\\n<li class=\"\"><a href=\"/about/\">About</a></li>\\n\\n<li class=\"dropdown \"> <a class=\"dropdown-toggle disabled\" data-toggle=\"dropdown\" href=\"/organization/\"> Organization <b class=\"caret\">\\xc2\\xa0</b></a>\\n<div class=\"dropdown-menu\"> \\n<a class=\"skip-link skip-menu\" href=\"#\">Skip Menu</a>\\n<!-- links -->              \\n<div class=\"row\">\\n\\n\\n<div class=\"leftcol\">\\n<ul>\\n<li><a class=\"mega-header\" href=\"/finance-office/index.html\">Chief Financial Officer</a></li>\\n<li><a href=\"/operating-budget/index.html\">Budget Analysis &amp; Planning</a></li>\\n<li><a href=\"/capital-asset-strategies-finance/index.html\">Capital Asset Strategies &amp; Finance</a></li>\\n<li><a href=\"/financial-accounting/index.html\">Financial Accounting</a></li>\\n<li><a href=\"/procurement-services/index.html\">Procurement Services</a></li>\\n<li><a href=\"/risk-services/index.html\">Risk Services</a></li>\\n</ul>\\n\\n<ul>\\n<li><a class=\"mega-header\" href=\"/business-operations/index.html\">Chief Operating Officer</a></li>\\n<li><a href=\"/energy-sustainability/index.html\">Energy &amp; Sustainability</a></li>\\n<li><a href=\"/human-resources/index.html\">Human Resources</a></li>\\n<li><a href=\"/information-technology-services/index.html\">Information Technology Services</a></li>\\n<li><a href=\"/operational-services/index.html\">Operational Services</a></li>\\n<li><a href=\"/pmo/index.html\">Strategy and Program Management Office</a></li>\\n<li><a href=\"/ucop-operations/index.html\">UCOP Operations</a></li>\\n</ul>\\n</div>\\n\\n<div class=\"midcol\">\\n<ul>\\n<li><a class=\"mega-header\" href=\"/academic-affairs/index.html\">Academic Affairs</a></li>\\n<li><a href=\"/academic-personnel-programs/index.html\">Academic Personnel &amp; Programs</a></li>\\n<li><a href=\"/diversity-engagement/index.html\">Diversity &amp; Engagement</a></li>\\n<li><a href=\"/institutional-research-academic-planning/index.html\">Institutional Research &amp; Academic Planning</a></li>\\n<li><a href=\"/research-graduate-studies/index.html\">Research &amp; Graduate Studies</a></li>\\n<li><a href=\"/student-affairs/index.html\">Student Affairs</a></li>\\n</ul>\\n\\n<ul>    \\n<li><a class=\"mega-header\" href=\"/external-relations-communications/index.html\">External Relations &amp; Communications</a></li>\\n<li><a href=\"/executive-communications/index.html\">Executive Communications &amp; Engagement</a></li>\\n<li><a href=\"/federal-governmental-relations/index.html\">Federal Governmental Relations</a></li>\\n<li><a href=\"/institutional-advancement/index.html\">Institutional Advancement</a></li>\\n<li><a href=\"/institutional-communications/index.html\">Institutional Communications</a></li>\\n<li><a href=\"/legislative-analysis/index.html\">Legislative Analysis</a></li>\\n<li><a href=\"/marketing-communications/index.html\">Marketing Communications</a></li>\\n<li><a href=\"/state-governmental-relations/index.html\">State Governmental Relations</a></li>\\n<li><a href=\"/media-relations/index.html\">Strategic Communications &amp; Media Relations</a></li>\\n<li><a href=\"/uc-health-communications/index.html\">UC Health Communications</a></li>\\n</ul>\\n</div>\\n\\n<div class=\"rightcol\">\\n<ul>\\n<li><a class=\"mega-others\" href=\"http://ucanr.edu/\">Agriculture &amp; Natural Resources</a></li>\\n<li><a class=\"mega-others\" href=\"/investment-office/index.html\">Chief Investment Officer</a></li>\\n<li><a class=\"mega-others\" href=\"/ethics-compliance-audit-services/index.html\">Ethics, Compliance &amp; Audit Services</a></li>\\n<li><a class=\"mega-others\" href=\"/general-counsel/index.html\">General Counsel</a></li>\\n<li><a class=\"mega-others\" href=\"/uc-health/index.html\">UC Health</a></li>\\n<li><a class=\"mega-others\" href=\"/innovation-entrepreneurship/index.html\">Office of Innovation &amp; Entrepreneurship</a></li>\\n<li><a class=\"mega-others\" href=\"/title-ix/index.html\">Systemwide Title IX Office</a></li>\\n<li><a class=\"mega-others\" href=\"/laboratory-management/index.html\">UC National Laboratories</a><br/></li>\\n<li><a class=\"mega-others\" href=\"https://senate.universityofcalifornia.edu/\">Academic Senate</a></li>\\n<li><a class=\"mega-others\" href=\"http://regents.universityofcalifornia.edu/\">Board of Regents</a></li>\\n<li><a class=\"mega-others\" href=\"/president/index.html\">President Napolitano</a></li>\\n</ul>\\n</div>\\n\\n</div>\\n</div>\\n</li>\\n<li class=\"\"><a href=\"/initiatives/\">Initiatives</a></li>\\n</ul> \\n            </div>\\n          </div>\\n        </div>\\n      </div>\\n      \\n    </div>\\n    \\n<div aria-label=\"breadcrumbs\" class=\"row\" role=\"navigation\">\\n<div class=\"span12\">         \\n<ul class=\"breadcrumb\">\\n\\t\\t\\t\\t\\t\\t\\t\\t<li> <a href=\"https://www.ucop.edu/index.html\">UCOP</a> <span class=\"divider\">&gt;</span> </li>\\n\\t\\t\\t\\t\\t\\t\\t<li> <a href=\"/finance-office/index.html\">CFO</a> <span class=\"divider\">&gt;</span> </li>\\n\\t<li> <a href=\"../../index.html\">Budget Analysis and Planning</a> <span class=\"divider\">&gt;</span> </li>\\n\\t\\t\\t\\t\\t\\t\\t\\t\\t\\t\\t\\t\\n\\t\\t<li>\\n\\t <a href=\"../index.html\">Budgets &amp; Reports</a>\\n\\t \\t <span class=\"divider\">&gt;</span> \\n\\t \\t</li>\\n\\t\\t\\t\\t\\t\\t\\t\\t\\t\\t\\t\\t\\t\\n\\t\\t<li>\\n\\t <a href=\"index.html\">Legislative reports</a>\\n\\t \\t <span class=\"divider\">&gt;</span> \\n\\t \\t</li>\\n\\t\\t\\t\\t\\t\\t\\t\\t\\t\\t\\n\\t\\t<li>\\n\\t <a href=\"2018-19-legislative-session.html\">Legislative reports</a>\\n\\t \\t</li>\\n\\t\\t</ul>\\n</div>\\n</div>\\n    <div aria-label=\"content\" class=\"list-land\" id=\"content\" role=\"region\"> \\n      <!-- Main hero unit for a primary marketing message or call to action -->\\n      <div class=\"row\">\\n        <div class=\"span12\">\\n\\n    <h1 class=\"page-header\">Budget Analysis and Planning</h1>\\n\\n</div>\\n                <div class=\"span12\">\\n        <ul aria-label=\"tabs\" class=\"nav nav-tabs sub-nav tab4\" role=\"navigation\">\\n                                                        \\n                <li class=\"\"><a class=\"\" href=\"../../index.html\">Overview</a></li>\\n                                            \\n                    <li class=\"\"><a class=\"\" href=\"../../staff/index.html\">Staff</a></li>\\n                                            \\n                    <li class=\"active\"><a class=\"\" href=\"../index.html\">Budgets &amp; Reports</a></li>\\n                                            \\n                    <li class=\"\"><a class=\"\" href=\"../../fees-and-enrollments/index.html\">Fees &amp; Enrollments</a></li>\\n                    </ul>\\n    </div>\\n    \\n      </div>\\n      <!-- Example row of columns -->\\n      \\n        \\n\\n\\n\\n\\n\\n<div class=\"row\">\\n        <div class=\"span8 dotted-top\" role=\"main\">\\n                          <h2>Legislative reports</h2>\\n                            <h3 class=\"subhead\">2018-19</h3>\\n                <table cellpadding=\"5\" cellspacing=\"0\" class=\"table-striped table-bordered\" id=\"report\" style=\"width: 100%;\" summary=\"2009-10 Legislative Reports in a table with one level of column and row headers\">\\n<tbody>\\n<tr style=\"height: 18px;\">\\n<th scope=\"col\" style=\"height: 18px;\">#</th>\\n<th scope=\"col\" style=\"height: 18px;\">Date</th>\\n<th scope=\"col\" style=\"height: 18px;\">Report title</th>\\n</tr>\\n<tr style=\"height: 18px;\">\\n<td scope=\"row\" style=\"height: 18px;\">1.</td>\\n<td scope=\"row\" style=\"height: 18px;\">09/01/18</td>\\n<td scope=\"row\" style=\"height: 18px;\">\\n<p><a href=\"../../_files/legreports/18-19/19-20capitalexpenditures.pdf\">2019-20 (EDU 92493 - 92496-2017) Capital Expenditures</a> (pdf)</p>\\n</td>\\n</tr>\\n<tr style=\"height: 18px;\">\\n<td scope=\"row\" style=\"height: 18px;\">2.</td>\\n<td scope=\"row\" style=\"height: 18px;\">09/01/18</td>\\n<td scope=\"row\" style=\"height: 18px;\"><a href=\"../../_files/legreports/17-18/10thAmendedListofProposedEnergyProjectsLegRpt-7-3-18.pdf\">10th Amended List of Proposed Energy Projects</a> (pdf)</td>\\n</tr>\\n<tr style=\"height: 18px;\">\\n<td scope=\"row\" style=\"height: 18px;\">3.</td>\\n<td scope=\"row\" style=\"height: 18px;\">10/1/2018</td>\\n<td scope=\"row\" style=\"height: 18px;\">\\n<p><a href=\"expenditures_for_undergraduate_and_graduateinstruction-9-21-18.pdf\">Expenditures for Instruction (biennial) (pdf)</a></p>\\n<p>--<a href=\"../../_files/legreports/18-19/efi_supplementaldata-2018.pdf\">Expenditure for Instruction Supplemental Data</a> (pdf)</p>\\n</td>\\n</tr>\\n<tr style=\"height: 18px;\">\\n<td scope=\"row\" style=\"height: 18px;\">4.</td>\\n<td scope=\"row\" style=\"height: 18px;\">11/01/18</td>\\n<td scope=\"row\" style=\"height: 18px;\">Instruction and Research Space Summary &amp; Analysis (pdf)</td>\\n</tr>\\n<tr style=\"height: 18px;\">\\n<td scope=\"row\" style=\"height: 18px;\">6.</td>\\n<td scope=\"row\" style=\"height: 18px;\">11/01/18</td>\\n<td scope=\"row\" style=\"height: 18px;\"><a href=\"https://ucop.edu/capital-planning/_files/capital/201727/2017-27%20CFP.pdf\" title=\"Five Year Capital Outlay Plan for State Funds (Capital Financial Plan 2017-27)\">Five Year Capital Outlay Plan for State Funds (Capital Financial Plan 2017-27)</a> (pdf)</td>\\n</tr>\\n<tr style=\"height: 18px;\">\\n<td scope=\"row\" style=\"height: 18px;\">7.</td>\\n<td scope=\"row\" style=\"height: 18px;\">11/30/18</td>\\n<td scope=\"row\" style=\"height: 18px;\"><a href=\"../../_files/legreports/18-19/admission_enrollment_lcff_legrept-11-15-18.pdf\" title=\"Admission and Enrollment of Students in LCFF High Schools\">Admission and Enrollment of Students in LCFF High Schools</a> (pdf)</td>\\n</tr>\\n<tr style=\"height: 36px;\">\\n<td scope=\"row\" style=\"height: 36px;\">8.</td>\\n<td scope=\"row\" style=\"height: 36px;\">12/01/18</td>\\n<td scope=\"row\" style=\"height: 36px;\"><a href=\"../../_files/legreports/18-19/final_2017-18bestpracticesfacultyemploymentlegrpt_11-14-18.pdf\" title=\"2017-18 Final report on the Use of One-time Funds to Support Best Practices in Equal Employment Opportunity in Faculty Employment-Final \">2017-18 Final report on the Use of One-time Funds to Support Best Practices in Equal Employment Opportunity in Faculty Employment-Final </a>(pdf)</td>\\n</tr>\\n<tr style=\"height: 20px;\">\\n<td scope=\"row\" style=\"height: 20px;\">9.</td>\\n<td scope=\"row\" style=\"height: 20px;\">12/01/18</td>\\n<td scope=\"row\" style=\"height: 20px;\"><a href=\"../../_files/legreports/18-19/2018-19_eeop_faculty_110818.pdf\" title=\"2018-19 Preliminary report on the Use of One-time Funds to Support Best Practices in Equal Employment Opportunity in Faculty Employment-Preliminary\">2018-19 Preliminary report on the Use of One-time Funds to Support Best Practices in Equal Employment Opportunity in Faculty Employment-Preliminary</a> (pdf)</td>\\n</tr>\\n<tr style=\"height: 18px;\">\\n<td scope=\"row\" style=\"height: 18px;\">10.</td>\\n<td scope=\"row\" style=\"height: 18px;\">12/01/18</td>\\n<td scope=\"row\" style=\"height: 18px;\">\\n<p><a href=\"../../_files/legreports/18-19/operationalchangesupdatelegislativererpt_120718.pdf\" title=\"Operational Changes to Reduce Institutional Costs and Improve Student Outcomes \">Operational Changes to Reduce Institutional Costs and Improve Student Outcomes</a> (pdf)</p>\\n</td>\\n</tr>\\n<tr style=\"height: 18px;\">\\n<td scope=\"row\" style=\"height: 18px;\">11.</td>\\n<td scope=\"row\" style=\"height: 18px;\">12/01/18</td>\\n<td scope=\"row\" style=\"height: 18px;\"><a href=\"../../_files/legreports/18-19/ucprojectsavingsfromcapitaloutlaybondfunds-legrpt-12-2018.pdf\" title=\"Project Savings Funded from Capital Outlay Bond Funds\">Project Savings Funded from Capital Outlay Bond Funds</a> (pdf)</td>\\n</tr>\\n<tr style=\"height: 18px;\">\\n<td scope=\"row\" style=\"height: 18px;\">12.</td>\\n<td scope=\"row\" style=\"height: 18px;\">12/01/18</td>\\n<td scope=\"row\" style=\"height: 18px;\"><a href=\"../../_files/legreports/18-19/ucstreamlinecapitaloutlayprojects-legrep_12-2018.pdf\" title=\"Streamlined Capital Projects Funded from Capital \">Streamlined Capital Projects Funded from Capital</a> (pdf)</td>\\n</tr>\\n<tr style=\"height: 18px;\">\\n<td scope=\"row\" style=\"height: 18px;\">13.</td>\\n<td scope=\"row\" style=\"height: 18px;\">12/01/18</td>\\n<td scope=\"row\" style=\"height: 18px;\">\\n<p><a href=\"../../_files/legreports/18-19/sustainabilityplantoeliminateoperatingdeficitatucb_legrpt.pdf\" title=\"Sustainability Plan to Eliminate Operating Deficit at UC Berkeley\">Sustainability Plan to Eliminate Operating Deficit at UC Berkeley</a> (pdf)</p>\\n</td>\\n</tr>\\n<tr style=\"height: 18px;\">\\n<td scope=\"row\" style=\"height: 18px;\">14.</td>\\n<td scope=\"row\" style=\"height: 18px;\">01/01/19</td>\\n<td scope=\"row\" style=\"height: 18px;\"><a href=\"../../_files/legreports/18-19/ucannualgobondaccountabilityreport_12-2018.pdf\" title=\"Annual General Obligation Bonds Accountability\">Annual General Obligation Bonds Accountability</a> (pdf)</td>\\n</tr>\\n<tr style=\"height: 18px;\">\\n<td scope=\"row\" style=\"height: 18px;\">15.</td>\\n<td scope=\"row\" style=\"height: 18px;\">01/01/19</td>\\n<td scope=\"row\" style=\"height: 18px;\"><a href=\"../../_files/legreports/18-19/psychiatry_gme_riverside_report_120618.pdf\">Psychiatry GME, UC Riverside</a> (pdf)</td>\\n</tr>\\n<tr style=\"height: 18px;\">\\n<td scope=\"row\" style=\"height: 18px;\">16.</td>\\n<td scope=\"row\" style=\"height: 18px;\">01/01/19</td>\\n<td scope=\"row\" style=\"height: 18px;\"><a href=\"../../_files/legreports/18-19/small_business_legrpt_12-19-18.pdf\" title=\"Small Business Utilization\">Small Business Utilization</a> (pdf)</td>\\n</tr>\\n<tr style=\"height: 18px;\">\\n<td scope=\"row\" style=\"height: 18px;\">17.</td>\\n<td scope=\"row\" style=\"height: 18px;\">01/10/19</td>\\n<td scope=\"row\" style=\"height: 18px;\"><a href=\"../../_files/legreports/18-19/summerenrollmentlegrpt-12-19-18.pdf\" title=\"Summer Enrollment \">Summer Enrollment&#160;</a>(pdf)</td>\\n</tr>\\n<tr style=\"height: 18px;\">\\n<td scope=\"row\" style=\"height: 18px;\">18.</td>\\n<td scope=\"row\" style=\"height: 18px;\">01/15/19</td>\\n<td scope=\"row\" style=\"height: 18px;\"><a href=\"../../_files/legreports/18-19/2018_contractingoutlegrpt_12-17-18.pdf\" title=\"Contracting Out for Services at Newly Developed Facilities\">Contracting Out for Services at Newly Developed Facilities</a> (pdf)</td>\\n</tr>\\n<tr style=\"height: 18px;\">\\n<td scope=\"row\" style=\"height: 18px;\">19.</td>\\n<td scope=\"row\" style=\"height: 18px;\">02/01/19</td>\\n<td scope=\"row\" style=\"height: 18px;\">Capital Expenditures Progress Report (EDU 92493 - 92496-2017) (pdf)</td>\\n</tr>\\n<tr style=\"height: 18px;\">\\n<td scope=\"row\" style=\"height: 18px;\">20.</td>\\n<td scope=\"row\" style=\"height: 18px;\">02/01/19</td>\\n<td scope=\"row\" style=\"height: 18px;\"><a href=\"../../_files/legreports/18-19/sep_progress_legrpt_1-23-19.pdf\" title=\"Statewide Energy Projects (SEP) - Progress\">Statewide Energy Projects (SEP) - Progress</a> (pdf)</td>\\n</tr>\\n<tr style=\"height: 18px;\">\\n<td scope=\"row\" style=\"height: 18px;\">21.</td>\\n<td scope=\"row\" style=\"height: 18px;\">02/01/19</td>\\n<td scope=\"row\" style=\"height: 18px;\">CalFresh Restaurant Meals Program-RMP (pdf)</td>\\n</tr>\\n<tr style=\"height: 18px;\">\\n<td scope=\"row\" style=\"height: 18px;\">22.</td>\\n<td scope=\"row\" style=\"height: 18px;\">03/01/19</td>\\n<td scope=\"row\" style=\"height: 18px;\">Student Transfers (pdf)</td>\\n</tr>\\n<tr style=\"height: 18px;\">\\n<td scope=\"row\" style=\"height: 18px;\">23.</td>\\n<td scope=\"row\" style=\"height: 18px;\">03/01/19</td>\\n<td scope=\"row\" style=\"height: 18px;\">Entry Level Writing Requirement (ELWR) (pdf)</td>\\n</tr>\\n<tr style=\"height: 18px;\">\\n<td scope=\"row\" style=\"height: 18px;\">24.</td>\\n<td scope=\"row\" style=\"height: 18px;\">03/15/19</td>\\n<td scope=\"row\" style=\"height: 18px;\">Performance Outcome Measures (pdf)</td>\\n</tr>\\n<tr style=\"height: 18px;\">\\n<td scope=\"row\" style=\"height: 18px;\">25.</td>\\n<td scope=\"row\" style=\"height: 18px;\">03/31/19</td>\\n<td scope=\"row\" style=\"height: 18px;\">Annual Student&#160;Financial Support (pdf)</td>\\n</tr>\\n<tr style=\"height: 18px;\">\\n<td scope=\"row\" style=\"height: 18px;\">26.</td>\\n<td scope=\"row\" style=\"height: 18px;\">04/01/19</td>\\n<td scope=\"row\" style=\"height: 18px;\">Unique Statewide Pupil Identifier (pdf)</td>\\n</tr>\\n<tr style=\"height: 18px;\">\\n<td scope=\"row\" style=\"height: 18px;\">27.</td>\\n<td scope=\"row\" style=\"height: 18px;\">04/01/19</td>\\n<td scope=\"row\" style=\"height: 18px;\">Systemwide Presidential Initiatives</td>\\n</tr>\\n<tr style=\"height: 18px;\">\\n<td scope=\"row\" style=\"height: 18px;\">28.</td>\\n<td scope=\"row\" style=\"height: 18px;\">05/01/19</td>\\n<td scope=\"row\" style=\"height: 18px;\">\\n<div>AB 957 (Levine) Higher Education Regional Workforce Coordination (pdf)</div>\\n</td>\\n</tr>\\n<tr style=\"height: 18px;\">\\n<td scope=\"row\" style=\"height: 18px;\">29.</td>\\n<td scope=\"row\" style=\"height: 18px;\">05/15/19</td>\\n<td scope=\"row\" style=\"height: 18px;\">\\n<div>Receipt and Use of Lottery Funds (pdf)</div>\\n</td>\\n</tr>\\n<tr style=\"height: 36px;\">\\n<td scope=\"row\" style=\"height: 36px;\">30.</td>\\n<td scope=\"row\" style=\"height: 36px;\">TBD</td>\\n<td scope=\"row\" style=\"height: 36px;\">\\n<div>Draft Long Range Development Plan (LRDP) and Draft LRDP Environmental Impact Report (EIR) (pdf)</div>\\n</td>\\n</tr>\\n<tr style=\"height: 36px;\">\\n<td scope=\"row\" style=\"height: 36px;\"><strong>&#160;</strong></td>\\n<td scope=\"row\" style=\"height: 36px;\"><strong>Future Reports</strong></td>\\n<td scope=\"row\" style=\"height: 36px;\"></td>\\n</tr>\\n<tr style=\"height: 18px;\">\\n<td scope=\"row\" style=\"height: 18px;\">31.</td>\\n<td scope=\"row\" style=\"height: 18px;\">09/01/19</td>\\n<td scope=\"row\" style=\"height: 18px;\">2019-20 (EDU 92493 - 92496-2017) Capital Expenditures (pdf)</td>\\n</tr>\\n<tr style=\"height: 18px;\">\\n<td scope=\"row\" style=\"height: 18px;\">32.</td>\\n<td scope=\"row\" style=\"height: 18px;\">09/01/19</td>\\n<td scope=\"row\" style=\"height: 18px;\">11th Amended List of Proposed Energy Projects (pdf)</td>\\n</tr>\\n<tr style=\"height: 18px;\">\\n<td scope=\"row\" style=\"height: 18px;\">33.</td>\\n<td scope=\"row\" style=\"height: 18px;\">10/1/20</td>\\n<td scope=\"row\" style=\"height: 18px;\">Expenditures for Instruction (biennial) (pdf)</td>\\n</tr>\\n<tr style=\"height: 18px;\">\\n<td scope=\"row\" style=\"height: 18px;\">34.</td>\\n<td scope=\"row\" style=\"height: 18px;\">11/01/19</td>\\n<td scope=\"row\" style=\"height: 18px;\">Instruction and Research Space Summary and Analysis (pdf)</td>\\n</tr>\\n<tr style=\"height: 18px;\">\\n<td scope=\"row\" style=\"height: 18px;\">35.</td>\\n<td scope=\"row\" style=\"height: 18px;\">11/01/20</td>\\n<td scope=\"row\" style=\"height: 18px;\">Utilization of Classroom and Teaching Laboratories (biennial) (pdf)</td>\\n</tr>\\n<tr style=\"height: 18px;\">\\n<td scope=\"row\" style=\"height: 18px;\">36.</td>\\n<td scope=\"row\" style=\"height: 18px;\">11-30-19</td>\\n<td scope=\"row\" style=\"height: 18px;\">Five Year Capital Outlay Plan for State Funds (Capital Financial Plan 2018-28) (pdf)</td>\\n</tr>\\n<tr style=\"height: 18px;\">\\n<td scope=\"row\" style=\"height: 18px;\">37.</td>\\n<td scope=\"row\" style=\"height: 18px;\">12-31-20</td>\\n<td scope=\"row\" style=\"height: 18px;\">Breast Cancer Research Program (pdf)</td>\\n</tr>\\n<tr style=\"height: 18px;\">\\n<td scope=\"row\" style=\"height: 18px;\">38.</td>\\n<td scope=\"row\" style=\"height: 18px;\">12-31-20</td>\\n<td scope=\"row\" style=\"height: 18px;\">Cigarette and Tobacco Products Surtax Research Program (pdf)</td>\\n</tr>\\n<tr style=\"height: 18px;\">\\n<td scope=\"row\" style=\"height: 18px;\">39.</td>\\n<td scope=\"row\" style=\"height: 18px;\">01-01-21</td>\\n<td scope=\"row\" style=\"height: 18px;\">California Subject Matter Programs (CSMP) (pdf)</td>\\n</tr>\\n<tr style=\"height: 36px;\">\\n<td scope=\"row\" style=\"height: 36px;\">40.</td>\\n<td scope=\"row\" style=\"height: 36px;\">04-01-21</td>\\n<td scope=\"row\" style=\"height: 36px;\">California State Summer School for Mathematics and Science (COSMOS) Program Outcomes (pdf)</td>\\n</tr>\\n<tr style=\"height: 18px;\">\\n<td scope=\"row\" style=\"height: 18px;\">41.</td>\\n<td scope=\"row\" style=\"height: 18px;\">12/31/22</td>\\n<td scope=\"row\" style=\"height: 18px;\">Firearm-related Violence Research</td>\\n</tr>\\n</tbody>\\n</table>\\n        </div>\\n        \\n        <div aria-label=\"sidebar\" class=\"span4 sidebar\" role=\"navigation\">\\n                  <div class=\"row\">\\n            <div class=\"span4 blustripe\">\\n                                                <h5>Related resources</h5>\\n            <ul class=\"prp-dots\">\\n                    <li>                    <a href=\"index.html\">Back to state-mandated reports</a>\\n</li>\\n                    <li>                    <a href=\"../index.html\">View all budgets and reports</a>\\n</li>\\n            </ul>\\n                            </div>\\n          </div>\\n                </div>\\n</div>\\n        \\n        \\n\\n\\n\\n\\n\\n\\n\\n<div class=\"row less3 novrflw\">\\n</div>\\n\\n    </div>\\n    <!-- /content --> \\n  </div>\\n  <!-- /container -->   \\n</div>\\n<!-- /wrapper -->\\n<footer><div><!-- wrapper div, because the include only wants to display one div -->\\n<div class=\"row footfirst\">\\n<div class=\"span12 footfirst-inner\">\\n<h2>UCOP Divisions &amp; Departments</h2>\\n<div class=\"row-fluid\">\\n<div class=\"span4\">\\n<p><a class=\"mega-header\" href=\"/finance-office/index.html\">Chief Financial Officer</a></p>\\n<ul>\\n<li><a href=\"/operating-budget/index.html\">Budget Analysis &amp; Planning</a></li>\\n<li><a href=\"/capital-asset-strategies-finance/index.html\">Capital Asset Strategies &amp; Finance</a></li>\\n<li><a href=\"/financial-accounting/index.html\">Financial Accounting</a></li>\\n<li><a href=\"/procurement-services/index.html\">Procurement Services</a></li>\\n<li><a href=\"/risk-services/index.html\">Risk Services</a></li>\\n</ul>\\n<p><a class=\"mega-header\" href=\"/business-operations/index.html\">Chief Operating Officer</a></p>\\n<ul>\\n<li><a href=\"/energy-sustainability/index.html\">Energy &amp; Sustainability</a></li>\\n<li><a href=\"/human-resources/index.html\">Human Resources</a></li>\\n<li><a href=\"/information-technology-services/index.html\">Information Technology Services</a></li>\\n<li><a href=\"/operational-services/index.html\">Operational Services</a></li>\\n<li><a href=\"/pmo/index.html\">Strategy and Program Management Office</a></li>\\n<li><a href=\"/ucop-operations/index.html\">UCOP Operations</a></li>\\n</ul>\\n</div>\\n<div class=\"span4\">\\n<p><a class=\"mega-header\" href=\"/academic-affairs/index.html\">Academic Affairs</a></p>\\n<ul>\\n<li><a href=\"/academic-personnel-programs/index.html\">Academic Personnel &amp; Programs</a></li>\\n<li><a href=\"/diversity-engagement/index.html\">Diversity &amp; Engagement</a></li>\\n<li><a href=\"/institutional-research-academic-planning/index.html\">Institutional Research &amp; Academic Planning</a></li>\\n<li><a href=\"/research-graduate-studies/index.html\">Research &amp; Graduate Studies</a></li>\\n<li><a href=\"/student-affairs/index.html\">Student Affairs</a></li>\\n</ul>\\n<p><a class=\"mega-header\" href=\"/external-relations-communications/index.html\">External Relations &amp; Communications</a></p>\\n<ul>\\n<li><a href=\"/executive-communications/index.html\">Executive Communications &amp; Engagement</a></li>\\n<li><a href=\"/federal-governmental-relations/index.html\">Federal Governmental Relations</a></li>\\n<li><a href=\"/institutional-advancement/index.html\">Institutional Advancement</a></li>\\n<li><a href=\"/institutional-communications/index.html\">Institutional Communications</a></li>\\n<li><a href=\"/legislative-analysis/index.html\">Legislative Analysis</a></li>\\n<li><a href=\"/marketing-communications/index.html\">Marketing Communications</a></li>\\n<li><a href=\"/state-governmental-relations/index.html\">State Governmental Relations</a></li>\\n<li><a href=\"/media-relations/index.html\">Strategic Communications &amp; Media Relations</a></li>\\n<li><a href=\"/uc-health-communications/index.html\">UC Health Communications</a></li>\\n</ul>\\n</div>\\n<div class=\"span4\">\\n<p><a class=\"mega-others\" href=\"http://ucanr.edu/\">Agriculture &amp; Natural Resources</a></p>\\n<p><a class=\"mega-others\" href=\"/investment-office/index.html\">Chief Investment Officer</a></p>\\n<p><a class=\"mega-others\" href=\"/ethics-compliance-audit-services/index.html\">Ethics, Compliance &amp; Audit Services</a></p>\\n<p><a class=\"mega-others\" href=\"/general-counsel/index.html\">General Counsel</a></p>\\n<p><a class=\"mega-others\" href=\"/uc-health/index.html\">UC Health</a></p>\\n<p><a class=\"mega-others\" href=\"/innovation-entrepreneurship/index.html\">Office of Innovation &amp; Entrepreneurship</a></p>\\n<p><a class=\"mega-others\" href=\"/laboratory-management/index.html\">UC National Laboratories</a></p>\\n<p><a class=\"mega-others\" href=\"/title-ix/index.html\">Systemwide Title IX Office</a></p>\\n<p><a class=\"mega-others\" href=\"/president/index.html\">President Napolitano</a></p>\\n</div>\\n</div>\\n</div>\\n</div>\\n<div class=\"row footsec\">\\n<div class=\"span12 footsec-inner\">\\n<div class=\"row-fluid\">\\n<div class=\"span4\">\\n<ul>\\n<li><strong><a href=\"https://www.universityofcalifornia.edu/\" rel=\"noopener\" target=\"_blank\">University of California</a></strong></li>\\n<li><strong><a href=\"https://senate.universityofcalifornia.edu/\" rel=\"noopener\" target=\"_blank\">Academic Senate</a></strong></li>\\n<li><strong><a href=\"http://regents.universityofcalifornia.edu/\" rel=\"noopener\" target=\"_blank\">Board of Regents</a></strong></li>\\n<li><strong><a href=\"https://ucnet.universityofcalifornia.edu\" rel=\"noopener\" target=\"_blank\">UCnet</a></strong></li>\\n</ul>\\n</div>\\n<div class=\"span4\">\\n<ul>\\n<li><a href=\"https://www.ucop.edu/accessibility/index.html\">Accessibility</a></li>\\n<li><a href=\"https://www.ucop.edu/terms/index.html\">Terms of Use</a></li>\\n</ul>\\n</div>\\n<div class=\"span4\">\\n<ul class=\"pull-right\">\\n<li><a href=\"http://www.facebook.com/universityofcalifornia\" rel=\"noopener\" target=\"_blank\"><img alt=\"UC on Facebook\" height=\"25\" src=\"/_common/files/img/icon_fb_yel_blu.gif\" width=\"25\"/></a> <a href=\"https://twitter.com/UC_Newsroom\" rel=\"noopener\" target=\"_blank\"><img alt=\"UC on Twitter\" height=\"25\" src=\"/_common/files/img/icon_twtr_yel_blu.gif\" width=\"25\"/></a></li>\\n</ul>\\n</div>\\n</div>\\n<p><br/> Copyright &#169; Regents of the University of California</p>\\n</div>\\n</div>\\n<script type=\"text/javascript\">// <![CDATA[\\n(function() {\\nvar sz = document.createElement(\\'script\\'); sz.type = \\'text/javascript\\'; sz.async = true;\\nsz.src = \\'//siteimproveanalytics.com/js/siteanalyze_8343.js\\';\\nvar s = document.getElementsByTagName(\\'script\\')[0]; s.parentNode.insertBefore(sz, s);\\n})();\\n// ]]></script>\\n</div></footer>  \\n<!-- Le javascript ================================================== --> \\n\\n<!-- jQuery & Bootstrap via CDN, fallback to local copy if CDN fails/blocked -->\\n<script src=\"//ajax.googleapis.com/ajax/libs/jquery/1.7.1/jquery.min.js\"></script>\\n<script>/*<![CDATA[*/window.jQuery || document.write(\\'<script src=\"/_common/files/js/jquery.1.7.1.min.js\"><\\\\/script>\\')/* ]]>*/</script>\\n\\n<script src=\"//netdna.bootstrapcdn.com/twitter-bootstrap/2.0.4/js/bootstrap.min.js\"></script>\\n<script>/*<![CDATA[*/$.fn.modal || document.write(\\'<script src=\"/_common/files/js/bootstrap.2.0.4.min.js\"><\\\\/script>\\')/* ]]>*/</script>\\n\\n<!--[if gt IE 8]><!--><script src=\"/_common/files/js/modernizr.js\"></script><!--<![endif]-->\\n<!--[if lt IE 9]><script src=\"/files/js/selectivizr-min.js\"></script><![endif]--> \\n<script src=\"/_common/files/js/jquery-ui-1.12.1.js\"></script>\\n<script src=\"/_common/files/js/plugins.js\"></script>\\n<script src=\"/_common/files/js/main.js?v=1.2.2.1\"></script>\\n\\n\\n<script>\\n  (function(i,s,o,g,r,a,m){i[\\'GoogleAnalyticsObject\\']=r;i[r]=i[r]||function(){\\n  (i[r].q=i[r].q||[]).push(arguments)},i[r].l=1*new Date();a=s.createElement(o),\\n  m=s.getElementsByTagName(o)[0];a.async=1;a.src=g;m.parentNode.insertBefore(a,m)\\n  })(window,document,\\'script\\',\\'https://www.google-analytics.com/analytics.js\\',\\'ga\\');\\n\\n  ga(\\'create\\', \\'UA-18163990-2\\', \\'auto\\');\\n\\n// autotrack plugins \\n  ga(\\'require\\', \\'outboundLinkTracker\\');\\n  \\n  \\n  ga(\\'send\\', \\'pageview\\');\\n\\n</script>\\n<script async=\"\" src=\"/_common/files/js/autotrack.js\"></script>\\n</body>\\n</html>'"
            ]
          },
          "metadata": {
            "tags": []
          },
          "execution_count": 11
        }
      ]
    },
    {
      "metadata": {
        "id": "LM0cEAU33SLf",
        "colab_type": "code",
        "colab": {}
      },
      "cell_type": "code",
      "source": [
        "soup = BeautifulSoup(c)"
      ],
      "execution_count": 0,
      "outputs": []
    },
    {
      "metadata": {
        "id": "iAMw5dGt3ZnP",
        "colab_type": "code",
        "colab": {}
      },
      "cell_type": "code",
      "source": [
        "summary = soup.find('div', {'class':'list-land', 'id':'content'})"
      ],
      "execution_count": 0,
      "outputs": []
    },
    {
      "metadata": {
        "id": "lcVwxfSu4AoP",
        "colab_type": "code",
        "colab": {}
      },
      "cell_type": "code",
      "source": [
        "tables = summary.find_all('table')"
      ],
      "execution_count": 0,
      "outputs": []
    },
    {
      "metadata": {
        "id": "tu87r0_n4Ex7",
        "colab_type": "code",
        "colab": {
          "base_uri": "https://localhost:8080/",
          "height": 34
        },
        "outputId": "e5b6c338-faee-4565-d60c-7097c9b4696b"
      },
      "cell_type": "code",
      "source": [
        "len(tables)"
      ],
      "execution_count": 15,
      "outputs": [
        {
          "output_type": "execute_result",
          "data": {
            "text/plain": [
              "1"
            ]
          },
          "metadata": {
            "tags": []
          },
          "execution_count": 15
        }
      ]
    },
    {
      "metadata": {
        "id": "cvkDGQ-14GBB",
        "colab_type": "code",
        "colab": {}
      },
      "cell_type": "code",
      "source": [
        "data = []\n",
        "rows = tables[0].find_all('tr')"
      ],
      "execution_count": 0,
      "outputs": []
    },
    {
      "metadata": {
        "id": "dp8psbzL4vHn",
        "colab_type": "code",
        "colab": {
          "base_uri": "https://localhost:8080/",
          "height": 34
        },
        "outputId": "14e1dd92-c089-4e44-b723-97b688d9e425"
      },
      "cell_type": "code",
      "source": [
        "len(rows)"
      ],
      "execution_count": 23,
      "outputs": [
        {
          "output_type": "execute_result",
          "data": {
            "text/plain": [
              "42"
            ]
          },
          "metadata": {
            "tags": []
          },
          "execution_count": 23
        }
      ]
    },
    {
      "metadata": {
        "id": "acdpI88840sT",
        "colab_type": "code",
        "colab": {
          "base_uri": "https://localhost:8080/",
          "height": 2221
        },
        "outputId": "26afc388-f296-4aa9-d01b-26e52fe41d1e"
      },
      "cell_type": "code",
      "source": [
        "for tr in rows:\n",
        "  cols = tr.find_all('td')\n",
        "  for td in cols:\n",
        "    text = td.find(text=True)\n",
        "    print(text)\n",
        "    data.append(text)"
      ],
      "execution_count": 24,
      "outputs": [
        {
          "output_type": "stream",
          "text": [
            "1.\n",
            "09/01/18\n",
            "\n",
            "\n",
            "2.\n",
            "09/01/18\n",
            "10th Amended List of Proposed Energy Projects\n",
            "3.\n",
            "10/1/2018\n",
            "\n",
            "\n",
            "4.\n",
            "11/01/18\n",
            "Instruction and Research Space Summary & Analysis (pdf)\n",
            "6.\n",
            "11/01/18\n",
            "Five Year Capital Outlay Plan for State Funds (Capital Financial Plan 2017-27)\n",
            "7.\n",
            "11/30/18\n",
            "Admission and Enrollment of Students in LCFF High Schools\n",
            "8.\n",
            "12/01/18\n",
            "2017-18 Final report on the Use of One-time Funds to Support Best Practices in Equal Employment Opportunity in Faculty Employment-Final \n",
            "9.\n",
            "12/01/18\n",
            "2018-19 Preliminary report on the Use of One-time Funds to Support Best Practices in Equal Employment Opportunity in Faculty Employment-Preliminary\n",
            "10.\n",
            "12/01/18\n",
            "\n",
            "\n",
            "11.\n",
            "12/01/18\n",
            "Project Savings Funded from Capital Outlay Bond Funds\n",
            "12.\n",
            "12/01/18\n",
            "Streamlined Capital Projects Funded from Capital\n",
            "13.\n",
            "12/01/18\n",
            "\n",
            "\n",
            "14.\n",
            "01/01/19\n",
            "Annual General Obligation Bonds Accountability\n",
            "15.\n",
            "01/01/19\n",
            "Psychiatry GME, UC Riverside\n",
            "16.\n",
            "01/01/19\n",
            "Small Business Utilization\n",
            "17.\n",
            "01/10/19\n",
            "Summer Enrollment \n",
            "18.\n",
            "01/15/19\n",
            "Contracting Out for Services at Newly Developed Facilities\n",
            "19.\n",
            "02/01/19\n",
            "Capital Expenditures Progress Report (EDU 92493 - 92496-2017) (pdf)\n",
            "20.\n",
            "02/01/19\n",
            "Statewide Energy Projects (SEP) - Progress\n",
            "21.\n",
            "02/01/19\n",
            "CalFresh Restaurant Meals Program-RMP (pdf)\n",
            "22.\n",
            "03/01/19\n",
            "Student Transfers (pdf)\n",
            "23.\n",
            "03/01/19\n",
            "Entry Level Writing Requirement (ELWR) (pdf)\n",
            "24.\n",
            "03/15/19\n",
            "Performance Outcome Measures (pdf)\n",
            "25.\n",
            "03/31/19\n",
            "Annual Student Financial Support (pdf)\n",
            "26.\n",
            "04/01/19\n",
            "Unique Statewide Pupil Identifier (pdf)\n",
            "27.\n",
            "04/01/19\n",
            "Systemwide Presidential Initiatives\n",
            "28.\n",
            "05/01/19\n",
            "\n",
            "\n",
            "29.\n",
            "05/15/19\n",
            "\n",
            "\n",
            "30.\n",
            "TBD\n",
            "\n",
            "\n",
            " \n",
            "Future Reports\n",
            "None\n",
            "31.\n",
            "09/01/19\n",
            "2019-20 (EDU 92493 - 92496-2017) Capital Expenditures (pdf)\n",
            "32.\n",
            "09/01/19\n",
            "11th Amended List of Proposed Energy Projects (pdf)\n",
            "33.\n",
            "10/1/20\n",
            "Expenditures for Instruction (biennial) (pdf)\n",
            "34.\n",
            "11/01/19\n",
            "Instruction and Research Space Summary and Analysis (pdf)\n",
            "35.\n",
            "11/01/20\n",
            "Utilization of Classroom and Teaching Laboratories (biennial) (pdf)\n",
            "36.\n",
            "11-30-19\n",
            "Five Year Capital Outlay Plan for State Funds (Capital Financial Plan 2018-28) (pdf)\n",
            "37.\n",
            "12-31-20\n",
            "Breast Cancer Research Program (pdf)\n",
            "38.\n",
            "12-31-20\n",
            "Cigarette and Tobacco Products Surtax Research Program (pdf)\n",
            "39.\n",
            "01-01-21\n",
            "California Subject Matter Programs (CSMP) (pdf)\n",
            "40.\n",
            "04-01-21\n",
            "California State Summer School for Mathematics and Science (COSMOS) Program Outcomes (pdf)\n",
            "41.\n",
            "12/31/22\n",
            "Firearm-related Violence Research\n"
          ],
          "name": "stdout"
        }
      ]
    },
    {
      "metadata": {
        "id": "7qbKfn3j5FXl",
        "colab_type": "code",
        "colab": {
          "base_uri": "https://localhost:8080/",
          "height": 230
        },
        "outputId": "652e2c31-1553-45d8-ba7f-f74aa9beb64f"
      },
      "cell_type": "code",
      "source": [
        "reports = []\n",
        "date = []\n",
        "index = 0\n",
        "for item in data:\n",
        "  if 'pdf' in item:\n",
        "    date.append(data[index-1])\n",
        "    reports.append(item.replace('\\xa0', ' '))\n",
        "  index += 1"
      ],
      "execution_count": 26,
      "outputs": [
        {
          "output_type": "error",
          "ename": "TypeError",
          "evalue": "ignored",
          "traceback": [
            "\u001b[0;31m---------------------------------------------------------------------------\u001b[0m",
            "\u001b[0;31mTypeError\u001b[0m                                 Traceback (most recent call last)",
            "\u001b[0;32m<ipython-input-26-468fb7bd7f91>\u001b[0m in \u001b[0;36m<module>\u001b[0;34m()\u001b[0m\n\u001b[1;32m      3\u001b[0m \u001b[0mindex\u001b[0m \u001b[0;34m=\u001b[0m \u001b[0;36m0\u001b[0m\u001b[0;34m\u001b[0m\u001b[0;34m\u001b[0m\u001b[0m\n\u001b[1;32m      4\u001b[0m \u001b[0;32mfor\u001b[0m \u001b[0mitem\u001b[0m \u001b[0;32min\u001b[0m \u001b[0mdata\u001b[0m\u001b[0;34m:\u001b[0m\u001b[0;34m\u001b[0m\u001b[0;34m\u001b[0m\u001b[0m\n\u001b[0;32m----> 5\u001b[0;31m   \u001b[0;32mif\u001b[0m \u001b[0;34m'pdf'\u001b[0m \u001b[0;32min\u001b[0m \u001b[0mitem\u001b[0m\u001b[0;34m:\u001b[0m\u001b[0;34m\u001b[0m\u001b[0;34m\u001b[0m\u001b[0m\n\u001b[0m\u001b[1;32m      6\u001b[0m     \u001b[0mdate\u001b[0m\u001b[0;34m.\u001b[0m\u001b[0mappend\u001b[0m\u001b[0;34m(\u001b[0m\u001b[0mdata\u001b[0m\u001b[0;34m[\u001b[0m\u001b[0mindex\u001b[0m\u001b[0;34m-\u001b[0m\u001b[0;36m1\u001b[0m\u001b[0;34m]\u001b[0m\u001b[0;34m)\u001b[0m\u001b[0;34m\u001b[0m\u001b[0;34m\u001b[0m\u001b[0m\n\u001b[1;32m      7\u001b[0m     \u001b[0mreports\u001b[0m\u001b[0;34m.\u001b[0m\u001b[0mappend\u001b[0m\u001b[0;34m(\u001b[0m\u001b[0mitem\u001b[0m\u001b[0;34m.\u001b[0m\u001b[0mreplace\u001b[0m\u001b[0;34m(\u001b[0m\u001b[0;34m'\\xa0'\u001b[0m\u001b[0;34m,\u001b[0m \u001b[0;34m' '\u001b[0m\u001b[0;34m)\u001b[0m\u001b[0;34m)\u001b[0m\u001b[0;34m\u001b[0m\u001b[0;34m\u001b[0m\u001b[0m\n",
            "\u001b[0;31mTypeError\u001b[0m: argument of type 'NoneType' is not iterable"
          ]
        }
      ]
    },
    {
      "metadata": {
        "id": "iUacbQGb5x9r",
        "colab_type": "code",
        "colab": {}
      },
      "cell_type": "code",
      "source": [
        "date = Series(date)\n",
        "reports = Series(reports)"
      ],
      "execution_count": 0,
      "outputs": []
    },
    {
      "metadata": {
        "id": "bXWTaun874Gy",
        "colab_type": "code",
        "colab": {}
      },
      "cell_type": "code",
      "source": [
        "web_df = pd.concat([date, reports], axis=1)"
      ],
      "execution_count": 0,
      "outputs": []
    },
    {
      "metadata": {
        "id": "2JYkZ9QU8AP2",
        "colab_type": "code",
        "colab": {
          "base_uri": "https://localhost:8080/",
          "height": 284
        },
        "outputId": "35029762-7ac7-451f-d72d-6b2d1432fa5f"
      },
      "cell_type": "code",
      "source": [
        "web_df"
      ],
      "execution_count": 29,
      "outputs": [
        {
          "output_type": "execute_result",
          "data": {
            "text/html": [
              "<div>\n",
              "<style scoped>\n",
              "    .dataframe tbody tr th:only-of-type {\n",
              "        vertical-align: middle;\n",
              "    }\n",
              "\n",
              "    .dataframe tbody tr th {\n",
              "        vertical-align: top;\n",
              "    }\n",
              "\n",
              "    .dataframe thead th {\n",
              "        text-align: right;\n",
              "    }\n",
              "</style>\n",
              "<table border=\"1\" class=\"dataframe\">\n",
              "  <thead>\n",
              "    <tr style=\"text-align: right;\">\n",
              "      <th></th>\n",
              "      <th>0</th>\n",
              "      <th>1</th>\n",
              "    </tr>\n",
              "  </thead>\n",
              "  <tbody>\n",
              "    <tr>\n",
              "      <th>0</th>\n",
              "      <td>11/01/18</td>\n",
              "      <td>Instruction and Research Space Summary &amp; Analy...</td>\n",
              "    </tr>\n",
              "    <tr>\n",
              "      <th>1</th>\n",
              "      <td>02/01/19</td>\n",
              "      <td>Capital Expenditures Progress Report (EDU 9249...</td>\n",
              "    </tr>\n",
              "    <tr>\n",
              "      <th>2</th>\n",
              "      <td>02/01/19</td>\n",
              "      <td>CalFresh Restaurant Meals Program-RMP (pdf)</td>\n",
              "    </tr>\n",
              "    <tr>\n",
              "      <th>3</th>\n",
              "      <td>03/01/19</td>\n",
              "      <td>Student Transfers (pdf)</td>\n",
              "    </tr>\n",
              "    <tr>\n",
              "      <th>4</th>\n",
              "      <td>03/01/19</td>\n",
              "      <td>Entry Level Writing Requirement (ELWR) (pdf)</td>\n",
              "    </tr>\n",
              "    <tr>\n",
              "      <th>5</th>\n",
              "      <td>03/15/19</td>\n",
              "      <td>Performance Outcome Measures (pdf)</td>\n",
              "    </tr>\n",
              "    <tr>\n",
              "      <th>6</th>\n",
              "      <td>03/31/19</td>\n",
              "      <td>Annual Student Financial Support (pdf)</td>\n",
              "    </tr>\n",
              "    <tr>\n",
              "      <th>7</th>\n",
              "      <td>04/01/19</td>\n",
              "      <td>Unique Statewide Pupil Identifier (pdf)</td>\n",
              "    </tr>\n",
              "  </tbody>\n",
              "</table>\n",
              "</div>"
            ],
            "text/plain": [
              "          0                                                  1\n",
              "0  11/01/18  Instruction and Research Space Summary & Analy...\n",
              "1  02/01/19  Capital Expenditures Progress Report (EDU 9249...\n",
              "2  02/01/19        CalFresh Restaurant Meals Program-RMP (pdf)\n",
              "3  03/01/19                            Student Transfers (pdf)\n",
              "4  03/01/19       Entry Level Writing Requirement (ELWR) (pdf)\n",
              "5  03/15/19                 Performance Outcome Measures (pdf)\n",
              "6  03/31/19             Annual Student Financial Support (pdf)\n",
              "7  04/01/19            Unique Statewide Pupil Identifier (pdf)"
            ]
          },
          "metadata": {
            "tags": []
          },
          "execution_count": 29
        }
      ]
    },
    {
      "metadata": {
        "id": "5pLL4dgd8Bei",
        "colab_type": "code",
        "colab": {}
      },
      "cell_type": "code",
      "source": [
        "web_df.columns =['Date', 'Reports']"
      ],
      "execution_count": 0,
      "outputs": []
    },
    {
      "metadata": {
        "id": "Uif44ssh8J9f",
        "colab_type": "code",
        "colab": {
          "base_uri": "https://localhost:8080/",
          "height": 284
        },
        "outputId": "df3fabda-977a-410a-d6a7-26f427d586a2"
      },
      "cell_type": "code",
      "source": [
        "web_df"
      ],
      "execution_count": 31,
      "outputs": [
        {
          "output_type": "execute_result",
          "data": {
            "text/html": [
              "<div>\n",
              "<style scoped>\n",
              "    .dataframe tbody tr th:only-of-type {\n",
              "        vertical-align: middle;\n",
              "    }\n",
              "\n",
              "    .dataframe tbody tr th {\n",
              "        vertical-align: top;\n",
              "    }\n",
              "\n",
              "    .dataframe thead th {\n",
              "        text-align: right;\n",
              "    }\n",
              "</style>\n",
              "<table border=\"1\" class=\"dataframe\">\n",
              "  <thead>\n",
              "    <tr style=\"text-align: right;\">\n",
              "      <th></th>\n",
              "      <th>Date</th>\n",
              "      <th>Reports</th>\n",
              "    </tr>\n",
              "  </thead>\n",
              "  <tbody>\n",
              "    <tr>\n",
              "      <th>0</th>\n",
              "      <td>11/01/18</td>\n",
              "      <td>Instruction and Research Space Summary &amp; Analy...</td>\n",
              "    </tr>\n",
              "    <tr>\n",
              "      <th>1</th>\n",
              "      <td>02/01/19</td>\n",
              "      <td>Capital Expenditures Progress Report (EDU 9249...</td>\n",
              "    </tr>\n",
              "    <tr>\n",
              "      <th>2</th>\n",
              "      <td>02/01/19</td>\n",
              "      <td>CalFresh Restaurant Meals Program-RMP (pdf)</td>\n",
              "    </tr>\n",
              "    <tr>\n",
              "      <th>3</th>\n",
              "      <td>03/01/19</td>\n",
              "      <td>Student Transfers (pdf)</td>\n",
              "    </tr>\n",
              "    <tr>\n",
              "      <th>4</th>\n",
              "      <td>03/01/19</td>\n",
              "      <td>Entry Level Writing Requirement (ELWR) (pdf)</td>\n",
              "    </tr>\n",
              "    <tr>\n",
              "      <th>5</th>\n",
              "      <td>03/15/19</td>\n",
              "      <td>Performance Outcome Measures (pdf)</td>\n",
              "    </tr>\n",
              "    <tr>\n",
              "      <th>6</th>\n",
              "      <td>03/31/19</td>\n",
              "      <td>Annual Student Financial Support (pdf)</td>\n",
              "    </tr>\n",
              "    <tr>\n",
              "      <th>7</th>\n",
              "      <td>04/01/19</td>\n",
              "      <td>Unique Statewide Pupil Identifier (pdf)</td>\n",
              "    </tr>\n",
              "  </tbody>\n",
              "</table>\n",
              "</div>"
            ],
            "text/plain": [
              "       Date                                            Reports\n",
              "0  11/01/18  Instruction and Research Space Summary & Analy...\n",
              "1  02/01/19  Capital Expenditures Progress Report (EDU 9249...\n",
              "2  02/01/19        CalFresh Restaurant Meals Program-RMP (pdf)\n",
              "3  03/01/19                            Student Transfers (pdf)\n",
              "4  03/01/19       Entry Level Writing Requirement (ELWR) (pdf)\n",
              "5  03/15/19                 Performance Outcome Measures (pdf)\n",
              "6  03/31/19             Annual Student Financial Support (pdf)\n",
              "7  04/01/19            Unique Statewide Pupil Identifier (pdf)"
            ]
          },
          "metadata": {
            "tags": []
          },
          "execution_count": 31
        }
      ]
    },
    {
      "metadata": {
        "id": "5siuWgp68LCL",
        "colab_type": "code",
        "colab": {}
      },
      "cell_type": "code",
      "source": [
        ""
      ],
      "execution_count": 0,
      "outputs": []
    }
  ]
}